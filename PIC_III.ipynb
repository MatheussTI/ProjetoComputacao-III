{
 "cells": [
  {
   "cell_type": "code",
   "execution_count": null,
   "id": "fc5fbc3c-bb18-412c-8bb2-53229071dcbb",
   "metadata": {},
   "outputs": [
    {
     "ename": "",
     "evalue": "",
     "output_type": "error",
     "traceback": [
      "\u001b[1;31mA execução de células com 'Python 3.9.9' requer o pacote ipykernel.\n",
      "\u001b[1;31m<a href='command:jupyter.createPythonEnvAndSelectController'>Crie um ambiente Python</a> com os pacotes necessários.\n",
      "\u001b[1;31mOu instale 'ipykernel' usando o comando: 'c:/Users/arthu/AppData/Local/Programs/Python/Python39/python.exe -m pip install ipykernel -U --user --force-reinstall'"
     ]
    }
   ],
   "source": [
    "#1 - Etapa de importações:\n",
    "import pandas as pd\n",
    "import numpy as np"
   ]
  },
  {
   "cell_type": "code",
   "execution_count": null,
   "id": "21a38986-10f6-4f67-b33a-00bac4fbb2a5",
   "metadata": {},
   "outputs": [],
   "source": [
    "#1.1 - Importação da database\n",
    "df_imoveis_SP = pd.read_csv(\"./sao-paulo-properties-april-2019.csv\")\n",
    "df_imoveis_SP.head()"
   ]
  },
  {
   "cell_type": "code",
   "execution_count": null,
   "id": "01f3bfe9-308d-456c-bb13-1dd5761422d4",
   "metadata": {},
   "outputs": [],
   "source": [
    "#2 - Tratamento de dados:\n",
    "\n",
    "'''Como a idéia dessa análise de dados é se basear em\n",
    "aluguéis de imóveis em São Paulo, devemos fazer uma abstração\n",
    "dos dados, tendo somente a disponibilidade de aluguéis'''\n",
    "\n",
    "df_aluguel = df_imoveis_SP[df_imoveis_SP[\"Negotiation Type\"] == \"rent\"]\n",
    "\n",
    "#2.1 - Verificando a qualidade dos dados para tratamento, no caso, se existe valores nulos ou de tipagem incorreta\n",
    "df_aluguel.info()\n"
   ]
  },
  {
   "cell_type": "code",
   "execution_count": null,
   "id": "202c5c67-2721-4334-8e95-af50b789c416",
   "metadata": {},
   "outputs": [],
   "source": [
    "#3 - Anállise Exploratória dos dados\n",
    "\n",
    "#3.1 - Verificando a distribuição dos dados de acordo com cada variável\n",
    "df_aluguel.hist(bins = 20, figsize=(15, 10))\n"
   ]
  },
  {
   "cell_type": "code",
   "execution_count": null,
   "id": "b47c0d9f-f4ec-4d67-bd56-b80937c69dbd",
   "metadata": {},
   "outputs": [],
   "source": [
    "#3.2 - Análise de correlação dos dados com matriz de correlação\n",
    "'''A análise de correlação, resumidamente, mede o grau de relação\n",
    "linear entre duas variáveis numéricas, trazendo direção (correlação \n",
    "positiva e negativa) e intensidade'''\n",
    "\n",
    "#3.2  Análise de correlação dos dados com matriz de correlação\n",
    "'''Para utilizar esse método de observação, devemos escolher apenas\n",
    "as colunas numéricas, descritas no tópico de verificação de qualidade\n",
    "das informações do DF'''\n",
    "\n",
    "colunas_numericas = df_aluguel.select_dtypes(include=['int64', 'float64']).columns\n",
    "correlacao_price = df_aluguel[colunas_numericas].corr()[\"Price\"].sort_values(ascending=False)\n",
    "correlacao_price"
   ]
  },
  {
   "cell_type": "code",
   "execution_count": null,
   "id": "20b11ccb-a3f3-4250-80a0-98a8ccde0d0e",
   "metadata": {},
   "outputs": [],
   "source": [
    "df_cleaned = df_aluguel.drop([\"New\",\"Property Type\",\"Negotiation Type\"], axis=1)\n",
    "df_cleaned"
   ]
  },
  {
   "cell_type": "code",
   "execution_count": null,
   "id": "341f5716",
   "metadata": {},
   "outputs": [],
   "source": [
    "one_hot = pd.get_dummies(df_cleaned[\"District\"])\n",
    "df = df_cleaned.drop(\"District\", axis = 1)\n",
    "df = df.join(one_hot)\n",
    "df"
   ]
  },
  {
   "cell_type": "code",
   "execution_count": null,
   "id": "4936c2e3",
   "metadata": {},
   "outputs": [],
   "source": [
    "from sklearn.model_selection import train_test_split\n",
    "Y = df[\"Price\"]\n",
    "X = df.loc[:, df.columns != \"Price\"]"
   ]
  },
  {
   "cell_type": "code",
   "execution_count": null,
   "id": "e3a243b5",
   "metadata": {},
   "outputs": [],
   "source": [
    "x_train, x_test, y_train, y_test = train_test_split(X, Y, test_size=0.3)"
   ]
  },
  {
   "cell_type": "code",
   "execution_count": null,
   "id": "9a4e78ca",
   "metadata": {},
   "outputs": [],
   "source": [
    "# Regressão Linear\n",
    "from sklearn.linear_model import LinearRegression\n",
    "lin_reg = LinearRegression()\n",
    "lin_reg.fit(x_train, y_train) # Aqui ele vai utilizar a função custo para fazer a otimização do modelo"
   ]
  },
  {
   "cell_type": "code",
   "execution_count": null,
   "id": "129ca45c",
   "metadata": {},
   "outputs": [],
   "source": [
    "import pandas as pd\n",
    "\n",
    "alguns_dados = x_train.iloc[:5]\n",
    "alguns_label = y_train.iloc[:5]\n",
    "predicoes = lin_reg.predict(alguns_dados).round(2)\n",
    "labels = alguns_label.values\n",
    "\n",
    "# Monta o DataFrame\n",
    "df_result = pd.DataFrame({\n",
    "    'Predições':       predicoes,\n",
    "    'Valores reais':   labels\n",
    "})\n",
    "df_result"
   ]
  },
  {
   "cell_type": "code",
   "execution_count": null,
   "id": "e1b2a625",
   "metadata": {},
   "outputs": [],
   "source": [
    "import seaborn as sns\n",
    "# Cria o gráfico\n",
    "ax = sns.barplot(\n",
    "    x=df_result.index, \n",
    "    y='Predições', \n",
    "    data=df_result,\n",
    "    alpha=0.7,\n",
    "    label='Predições'\n",
    ")\n",
    "sns.barplot(\n",
    "    x=df_result.index, \n",
    "    y='Valores reais', \n",
    "    data=df_result,\n",
    "    alpha=0.7,\n",
    "    label='Valores reais',\n",
    "    dodge=False,\n",
    "    ax=ax\n",
    ")\n",
    "\n",
    "ax.set_xlabel('Índice')\n",
    "ax.set_ylabel('Preço')\n",
    "ax.set_title('Predições vs Valores Reais')\n",
    "ax.legend()\n"
   ]
  },
  {
   "cell_type": "code",
   "execution_count": null,
   "id": "f4a30c3d",
   "metadata": {},
   "outputs": [],
   "source": [
    "# Avaliação do modelo de dados\n",
    "\n",
    "from sklearn.metrics import mean_squared_error, r2_score\n",
    "import numpy as np\n",
    "\n",
    "# predições no conjunto de treinamento\n",
    "preds = lin_reg.predict(x_train)\n",
    "\n",
    "# MSE e RMSE\n",
    "lin_mse = mean_squared_error(y_train, preds)\n",
    "lin_rmse = np.sqrt(lin_mse)\n",
    "\n",
    "# R2\n",
    "lin_r2 = r2_score(y_train, preds)\n",
    "\n",
    "print(f\"RMSE: {lin_rmse:.4f}\")\n",
    "print(f\"R²:   {lin_r2:.4f}\")"
   ]
  }
 ],
 "metadata": {
  "kernelspec": {
   "display_name": "Python 3",
   "language": "python",
   "name": "python3"
  },
  "language_info": {
   "codemirror_mode": {
    "name": "ipython",
    "version": 3
   },
   "file_extension": ".py",
   "mimetype": "text/x-python",
   "name": "python",
   "nbconvert_exporter": "python",
   "pygments_lexer": "ipython3",
   "version": "3.9.9"
  }
 },
 "nbformat": 4,
 "nbformat_minor": 5
}
